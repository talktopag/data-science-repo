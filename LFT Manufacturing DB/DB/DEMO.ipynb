{
 "cells": [
  {
   "cell_type": "markdown",
   "id": "dc1f5cf0-bbea-4186-8614-5e28d3db4838",
   "metadata": {},
   "source": [
    "# Test `sqlalchemy`, `sqlite` and `pandas` Integration\n",
    "\n",
    "An example of the three tools hanging together. Very straightforward."
   ]
  },
  {
   "cell_type": "code",
   "execution_count": 1,
   "id": "bbcaadd6-0bc1-4955-b94f-d5176eaa86cb",
   "metadata": {},
   "outputs": [
    {
     "name": "stdout",
     "output_type": "stream",
     "text": [
      "rm: cannot remove 'test.db': No such file or directory\n"
     ]
    }
   ],
   "source": [
    "!rm test.db"
   ]
  },
  {
   "cell_type": "code",
   "execution_count": 2,
   "id": "01d8660e-b2f7-4f28-94ee-2778d204dfa4",
   "metadata": {},
   "outputs": [],
   "source": [
    "import pandas as pd\n",
    "import numpy as np\n",
    "from sqlalchemy import create_engine\n",
    "\n",
    "sql_db = create_engine('sqlite:///test.db')"
   ]
  },
  {
   "cell_type": "code",
   "execution_count": 3,
   "id": "72035bd5-dd4f-4f94-a2a8-9637acc25e82",
   "metadata": {},
   "outputs": [],
   "source": [
    "data = pd.DataFrame({'test_a': np.random.normal(1,0.05,100), 'test_b': np.random.normal(1,0.05,100)})\n",
    "data.to_sql(name = 'test', con = sql_db, if_exists = 'replace', index = False)"
   ]
  },
  {
   "cell_type": "code",
   "execution_count": 4,
   "id": "197dbd85-cc84-4107-be45-cdb214c6c85a",
   "metadata": {},
   "outputs": [
    {
     "data": {
      "text/html": [
       "<div>\n",
       "<style scoped>\n",
       "    .dataframe tbody tr th:only-of-type {\n",
       "        vertical-align: middle;\n",
       "    }\n",
       "\n",
       "    .dataframe tbody tr th {\n",
       "        vertical-align: top;\n",
       "    }\n",
       "\n",
       "    .dataframe thead th {\n",
       "        text-align: right;\n",
       "    }\n",
       "</style>\n",
       "<table border=\"1\" class=\"dataframe\">\n",
       "  <thead>\n",
       "    <tr style=\"text-align: right;\">\n",
       "      <th></th>\n",
       "      <th>test_a</th>\n",
       "      <th>test_b</th>\n",
       "    </tr>\n",
       "  </thead>\n",
       "  <tbody>\n",
       "    <tr>\n",
       "      <th>0</th>\n",
       "      <td>1.078580</td>\n",
       "      <td>0.976650</td>\n",
       "    </tr>\n",
       "    <tr>\n",
       "      <th>1</th>\n",
       "      <td>1.099821</td>\n",
       "      <td>0.972439</td>\n",
       "    </tr>\n",
       "    <tr>\n",
       "      <th>2</th>\n",
       "      <td>1.058839</td>\n",
       "      <td>1.076825</td>\n",
       "    </tr>\n",
       "    <tr>\n",
       "      <th>3</th>\n",
       "      <td>1.056588</td>\n",
       "      <td>0.864807</td>\n",
       "    </tr>\n",
       "    <tr>\n",
       "      <th>4</th>\n",
       "      <td>1.083837</td>\n",
       "      <td>1.072516</td>\n",
       "    </tr>\n",
       "  </tbody>\n",
       "</table>\n",
       "</div>"
      ],
      "text/plain": [
       "     test_a    test_b\n",
       "0  1.078580  0.976650\n",
       "1  1.099821  0.972439\n",
       "2  1.058839  1.076825\n",
       "3  1.056588  0.864807\n",
       "4  1.083837  1.072516"
      ]
     },
     "execution_count": 4,
     "metadata": {},
     "output_type": "execute_result"
    }
   ],
   "source": [
    "test_a_limit = 1.05\n",
    "\n",
    "my_query = \"SELECT * FROM test WHERE test_a > \" + str(test_a_limit) + \" LIMIT 5\"\n",
    "\n",
    "pd.read_sql(my_query, con = sql_db)"
   ]
  }
 ],
 "metadata": {
  "kernelspec": {
   "display_name": "Python 3",
   "language": "python",
   "name": "python3"
  },
  "language_info": {
   "codemirror_mode": {
    "name": "ipython",
    "version": 3
   },
   "file_extension": ".py",
   "mimetype": "text/x-python",
   "name": "python",
   "nbconvert_exporter": "python",
   "pygments_lexer": "ipython3",
   "version": "3.9.5"
  }
 },
 "nbformat": 4,
 "nbformat_minor": 5
}
